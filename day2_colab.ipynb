{
  "nbformat": 4,
  "nbformat_minor": 0,
  "metadata": {
    "colab": {
      "provenance": [],
      "authorship_tag": "ABX9TyPj08tyXWnJMO3Ndou78eEF",
      "include_colab_link": true
    },
    "kernelspec": {
      "name": "python3",
      "display_name": "Python 3"
    },
    "language_info": {
      "name": "python"
    }
  },
  "cells": [
    {
      "cell_type": "markdown",
      "metadata": {
        "id": "view-in-github",
        "colab_type": "text"
      },
      "source": [
        "<a href=\"https://colab.research.google.com/github/Tejav202/IETE/blob/main/day2_colab.ipynb\" target=\"_parent\"><img src=\"https://colab.research.google.com/assets/colab-badge.svg\" alt=\"Open In Colab\"/></a>"
      ]
    },
    {
      "cell_type": "code",
      "execution_count": 1,
      "metadata": {
        "colab": {
          "base_uri": "https://localhost:8080/"
        },
        "id": "9mi7PR1iL88I",
        "outputId": "ec489475-23d9-4a64-c501-19bbad7612ac"
      },
      "outputs": [
        {
          "output_type": "stream",
          "name": "stdout",
          "text": [
            "('apple', 'mango', 'banana')\n"
          ]
        }
      ],
      "source": [
        "my_tuple=('apple','mango','banana')\n",
        "print(my_tuple)"
      ]
    },
    {
      "cell_type": "code",
      "source": [
        "my_tuple=('apple','mango','banana')\n",
        "print(my_tuple[0])\n",
        "print(my_tuple[-1])\n",
        "print(my_tuple[0:])\n",
        "print(my_tuple[0:2])"
      ],
      "metadata": {
        "colab": {
          "base_uri": "https://localhost:8080/"
        },
        "id": "otvUP0ezNzG7",
        "outputId": "de3a4c8d-40a3-492e-b9e2-cc458a81811f"
      },
      "execution_count": 2,
      "outputs": [
        {
          "output_type": "stream",
          "name": "stdout",
          "text": [
            "apple\n",
            "banana\n",
            "('apple', 'mango', 'banana')\n",
            "('apple', 'mango')\n"
          ]
        }
      ]
    },
    {
      "cell_type": "code",
      "source": [
        "my_tuple=('apple','mango','banana','apple','banana','grape')\n",
        "print(my_tuple)\n",
        "print(my_tuple.count(\"apple\"))\n",
        "print(my_tuple.index(\"grape\"))"
      ],
      "metadata": {
        "colab": {
          "base_uri": "https://localhost:8080/"
        },
        "id": "M9k4-i8_OAQB",
        "outputId": "5bcefd99-67b2-4a67-cbe0-eff3927b9922"
      },
      "execution_count": 5,
      "outputs": [
        {
          "output_type": "stream",
          "name": "stdout",
          "text": [
            "('apple', 'mango', 'banana', 'apple', 'banana', 'grape')\n",
            "2\n",
            "5\n"
          ]
        }
      ]
    },
    {
      "cell_type": "code",
      "source": [
        "myset={'apple','apple','mango','banana'}\n",
        "print(myset)\n",
        "myset.add('grape')\n",
        "print(myset)\n",
        "myset.remove('mango')\n",
        "print(myset)\n",
        "myset.discard('grape')\n",
        "print(myset)\n",
        "myset.clear()\n",
        "print(myset)"
      ],
      "metadata": {
        "colab": {
          "base_uri": "https://localhost:8080/"
        },
        "id": "Vx_4zoz2OAIv",
        "outputId": "fee7e0f1-5008-40e3-b313-ec94367e88a5"
      },
      "execution_count": 8,
      "outputs": [
        {
          "output_type": "stream",
          "name": "stdout",
          "text": [
            "{'apple', 'mango', 'banana'}\n",
            "{'apple', 'mango', 'banana', 'grape'}\n",
            "{'apple', 'banana', 'grape'}\n",
            "{'apple', 'banana'}\n",
            "set()\n"
          ]
        }
      ]
    },
    {
      "cell_type": "code",
      "source": [
        "set1={'apple','banana'}\n",
        "set2={'banana','mango'}\n",
        "combined=set1.union(set2)\n",
        "print(combined)"
      ],
      "metadata": {
        "colab": {
          "base_uri": "https://localhost:8080/"
        },
        "id": "POgH1P72PNid",
        "outputId": "b38ca67b-c0bb-48ea-b3cb-4d2b8a6f9c08"
      },
      "execution_count": 9,
      "outputs": [
        {
          "output_type": "stream",
          "name": "stdout",
          "text": [
            "{'apple', 'mango', 'banana'}\n"
          ]
        }
      ]
    },
    {
      "cell_type": "code",
      "source": [
        "set1={'apple','banana'}\n",
        "set2={'banana','mango'}\n",
        "common=set1.intersection(set2)\n",
        "print(common)"
      ],
      "metadata": {
        "colab": {
          "base_uri": "https://localhost:8080/"
        },
        "id": "R6PgJMEaPmoC",
        "outputId": "13c54657-14b1-4034-a3ce-aad91ea4a018"
      },
      "execution_count": 11,
      "outputs": [
        {
          "output_type": "stream",
          "name": "stdout",
          "text": [
            "{'banana'}\n"
          ]
        }
      ]
    },
    {
      "cell_type": "code",
      "source": [
        "fruits=('apple',5,'banana',1,'mango',4,'watermelon','apple')\n",
        "print(fruits[1])\n",
        "print(fruits.count('apple'))\n",
        "set1={1,2,1,2,3}\n",
        "print(set1)\n",
        "set1.add(5)\n",
        "print(set1)\n",
        "common=set1.intersection(fruits)\n",
        "print(common)"
      ],
      "metadata": {
        "colab": {
          "base_uri": "https://localhost:8080/"
        },
        "id": "LPizIavsPyqu",
        "outputId": "65c90bd0-7f89-49e0-de7e-ab2dcf94b9d5"
      },
      "execution_count": 16,
      "outputs": [
        {
          "output_type": "stream",
          "name": "stdout",
          "text": [
            "5\n",
            "2\n",
            "{1, 2, 3}\n",
            "{1, 2, 3, 5}\n",
            "{1, 5}\n"
          ]
        }
      ]
    },
    {
      "cell_type": "code",
      "source": [
        "student={'name':'alice','age':21,\"grade\":'A'}\n",
        "print(student)\n",
        "print(student['name'])\n",
        "print(student['age'])\n",
        "print(student.get('grade'))\n",
        "print(student.get('marks'))\n",
        "print(student.get('marks',10))"
      ],
      "metadata": {
        "colab": {
          "base_uri": "https://localhost:8080/"
        },
        "id": "WmWnsVT5RfEz",
        "outputId": "efe69d6e-d480-4ac1-b717-9a6a5d2f539d"
      },
      "execution_count": 17,
      "outputs": [
        {
          "output_type": "stream",
          "name": "stdout",
          "text": [
            "{'name': 'alice', 'age': 21, 'grade': 'A'}\n",
            "alice\n",
            "21\n",
            "A\n",
            "None\n",
            "10\n"
          ]
        }
      ]
    },
    {
      "cell_type": "code",
      "source": [
        "student['marks']=85\n",
        "student['grade']='A+'\n",
        "print(student)\n",
        "student.pop('marks')\n",
        "print(student)\n",
        "for key in student:\n",
        "  print(key,\":\",student[key])\n",
        ""
      ],
      "metadata": {
        "colab": {
          "base_uri": "https://localhost:8080/"
        },
        "id": "UvdE9DdRTkI7",
        "outputId": "4506cfeb-1aab-4f66-f04e-4d342fa84cf6"
      },
      "execution_count": 21,
      "outputs": [
        {
          "output_type": "stream",
          "name": "stdout",
          "text": [
            "{'name': 'alice', 'grade': 'A+', 'marks': 85}\n",
            "{'name': 'alice', 'grade': 'A+'}\n",
            "name : alice\n",
            "grade : A+\n"
          ]
        }
      ]
    },
    {
      "cell_type": "code",
      "source": [
        "keys=['name','age','grade']\n",
        "values=['bob',22,'B']\n",
        "student2=dict(zip(keys,values))\n",
        "print(student2)"
      ],
      "metadata": {
        "colab": {
          "base_uri": "https://localhost:8080/"
        },
        "id": "F15VAwlbURT6",
        "outputId": "111558db-fb92-4c68-904d-d933a67bae1e"
      },
      "execution_count": 23,
      "outputs": [
        {
          "output_type": "stream",
          "name": "stdout",
          "text": [
            "{'name': 'bob', 'age': 22, 'grade': 'B'}\n"
          ]
        }
      ]
    },
    {
      "cell_type": "code",
      "source": [
        "classroom={\n",
        "   'student1':{'name':'alice','marks':80},\n",
        "   'student2':{'name':'bob','marks':90},\n",
        "   'student3':{'name':'charlie','marks':70}\n",
        "}\n",
        "print(classroom['student1'])\n",
        "print(classroom['student2'])\n",
        "print(classroom['student3'])"
      ],
      "metadata": {
        "colab": {
          "base_uri": "https://localhost:8080/"
        },
        "id": "WSzVjJAuUhl3",
        "outputId": "8c926eda-27cc-45b1-9822-eb251dff2a9a"
      },
      "execution_count": 29,
      "outputs": [
        {
          "output_type": "stream",
          "name": "stdout",
          "text": [
            "{'name': 'alice', 'marks': 80}\n",
            "{'name': 'bob', 'marks': 90}\n",
            "{'name': 'charlie', 'marks': 70}\n"
          ]
        }
      ]
    },
    {
      "cell_type": "code",
      "source": [
        "car={'brand':\"suzuki\",'model':\"alto\",\"year\":2020}\n",
        "car['color']='blue'\n",
        "print(car)\n",
        "print(car.get('enginetype','petrol'))\n",
        "cars={\n",
        "    'car1':{\"brand\":\"suzuki\",\"model\":\"alto\",\"year\":2020},\n",
        "    'car2':{\"brand\":\"toyota\",\"model\":\"camry\",\"year\":2021}\n",
        "}\n",
        "print(cars['car1'])\n",
        "print(cars['car2'])\n",
        "names=['venkat','teja','ravi']\n",
        "marks=[85,90,95]\n",
        "student=dict(zip(names,marks))\n",
        "print(student)\n",
        "\n",
        "\n",
        "\n",
        "\n"
      ],
      "metadata": {
        "colab": {
          "base_uri": "https://localhost:8080/"
        },
        "id": "q_LZReeXVgXW",
        "outputId": "efe0b94c-fc87-476e-8d7a-2e0c5e1a0e77"
      },
      "execution_count": 37,
      "outputs": [
        {
          "output_type": "stream",
          "name": "stdout",
          "text": [
            "{'brand': 'suzuki', 'model': 'alto', 'year': 2020, 'color': 'blue'}\n",
            "petrol\n",
            "{'brand': 'suzuki', 'model': 'alto', 'year': 2020}\n",
            "{'brand': 'toyota', 'model': 'camry', 'year': 2021}\n",
            "{'venkat': 85, 'teja': 90, 'ravi': 95}\n"
          ]
        }
      ]
    },
    {
      "cell_type": "code",
      "source": [
        "x=5\n",
        "print(type(x))\n",
        "y=12.5\n",
        "print(type(y))\n",
        "c='apple'\n",
        "print(type(c))\n",
        "d=3+2j\n",
        "print(type(d))\n",
        "b=True\n",
        "print(type(b))\n",
        "fruits=['apple','mango']\n",
        "print(type(fruits))\n",
        "cd=10,20\n",
        "print(type(cd))\n",
        "num=range(5)\n",
        "print(list(num))\n",
        "print(type(num))"
      ],
      "metadata": {
        "colab": {
          "base_uri": "https://localhost:8080/"
        },
        "id": "_4EF_Nc0XXBf",
        "outputId": "fea4e1b0-bb7b-4ec4-a716-10bb32f6e9b1"
      },
      "execution_count": 44,
      "outputs": [
        {
          "output_type": "stream",
          "name": "stdout",
          "text": [
            "<class 'int'>\n",
            "<class 'float'>\n",
            "<class 'str'>\n",
            "<class 'complex'>\n",
            "<class 'bool'>\n",
            "<class 'list'>\n",
            "<class 'tuple'>\n",
            "[0, 1, 2, 3, 4]\n",
            "<class 'range'>\n"
          ]
        }
      ]
    },
    {
      "cell_type": "code",
      "source": [
        "a=20\n",
        "b=str(a)\n",
        "print(b,type(b))\n",
        "c=\"123\"\n",
        "d=int(c)\n",
        "print(d,type(d))\n",
        "x=5\n",
        "y=float(x)\n",
        "z=str(x)\n",
        "w=int(\"50\")\n",
        "k=list(\"abc\")\n",
        "print(x,y,z,w,k)"
      ],
      "metadata": {
        "colab": {
          "base_uri": "https://localhost:8080/"
        },
        "id": "RCnTE6U3ZxLh",
        "outputId": "b01d0561-ec91-438a-c25a-24b3633df687"
      },
      "execution_count": 48,
      "outputs": [
        {
          "output_type": "stream",
          "name": "stdout",
          "text": [
            "20 <class 'str'>\n",
            "123 <class 'int'>\n",
            "5 5.0 5 50 ['a', 'b', 'c']\n"
          ]
        }
      ]
    },
    {
      "cell_type": "code",
      "source": [
        "a=10\n",
        "b=10.5\n",
        "c=2+3j\n",
        "d=\"hi\"\n",
        "e=[1,2,3]\n",
        "f=('hi','hello','world')\n",
        "is_palin=True\n",
        "print(type(a))\n",
        "print(type(b))\n",
        "print(type(c))\n",
        "print(type(d))\n",
        "print(type(e))\n",
        "print(type(is_palin))\n",
        "g=float(a)\n",
        "print(type(g))\n",
        "h=str(a)\n",
        "print(h,type(h))\n",
        "list=[1,'hi',10.5,True,2+3j]\n",
        "print(type(list[0]))\n",
        "print(type(list[1]))\n",
        "print(type(list[2]))\n",
        "print(type(list[3]))\n",
        "print(type(list[4]))\n",
        "set={1,2,3,4,4,3,2}\n",
        "print(set)\n",
        "tuple=(1,2,3,4,4,3,2)\n",
        "tuple[2]='hi'\n"
      ],
      "metadata": {
        "colab": {
          "base_uri": "https://localhost:8080/",
          "height": 419
        },
        "id": "2oTDqwniaYNG",
        "outputId": "7d0d5d3e-63db-464c-f891-72ae15bcb750"
      },
      "execution_count": 64,
      "outputs": [
        {
          "output_type": "stream",
          "name": "stdout",
          "text": [
            "<class 'int'>\n",
            "<class 'float'>\n",
            "<class 'complex'>\n",
            "<class 'str'>\n",
            "<class 'list'>\n",
            "<class 'bool'>\n",
            "<class 'float'>\n",
            "10 <class 'str'>\n",
            "<class 'int'>\n",
            "<class 'str'>\n",
            "<class 'float'>\n",
            "<class 'bool'>\n",
            "<class 'complex'>\n",
            "{1, 2, 3, 4}\n"
          ]
        },
        {
          "output_type": "error",
          "ename": "TypeError",
          "evalue": "'tuple' object does not support item assignment",
          "traceback": [
            "\u001b[0;31m---------------------------------------------------------------------------\u001b[0m",
            "\u001b[0;31mTypeError\u001b[0m                                 Traceback (most recent call last)",
            "\u001b[0;32m<ipython-input-64-3db4c01cb8f9>\u001b[0m in \u001b[0;36m<cell line: 0>\u001b[0;34m()\u001b[0m\n\u001b[1;32m     25\u001b[0m \u001b[0mprint\u001b[0m\u001b[0;34m(\u001b[0m\u001b[0mset\u001b[0m\u001b[0;34m)\u001b[0m\u001b[0;34m\u001b[0m\u001b[0;34m\u001b[0m\u001b[0m\n\u001b[1;32m     26\u001b[0m \u001b[0mtuple\u001b[0m\u001b[0;34m=\u001b[0m\u001b[0;34m(\u001b[0m\u001b[0;36m1\u001b[0m\u001b[0;34m,\u001b[0m\u001b[0;36m2\u001b[0m\u001b[0;34m,\u001b[0m\u001b[0;36m3\u001b[0m\u001b[0;34m,\u001b[0m\u001b[0;36m4\u001b[0m\u001b[0;34m,\u001b[0m\u001b[0;36m4\u001b[0m\u001b[0;34m,\u001b[0m\u001b[0;36m3\u001b[0m\u001b[0;34m,\u001b[0m\u001b[0;36m2\u001b[0m\u001b[0;34m)\u001b[0m\u001b[0;34m\u001b[0m\u001b[0;34m\u001b[0m\u001b[0m\n\u001b[0;32m---> 27\u001b[0;31m \u001b[0mtuple\u001b[0m\u001b[0;34m[\u001b[0m\u001b[0;36m2\u001b[0m\u001b[0;34m]\u001b[0m\u001b[0;34m=\u001b[0m\u001b[0;34m'hi'\u001b[0m\u001b[0;34m\u001b[0m\u001b[0;34m\u001b[0m\u001b[0m\n\u001b[0m",
            "\u001b[0;31mTypeError\u001b[0m: 'tuple' object does not support item assignment"
          ]
        }
      ]
    },
    {
      "cell_type": "code",
      "source": [
        "a=10\n",
        "b=5\n",
        "print(\"addition:\",a+b)\n",
        "print(\"subtraction:\",a-b)\n",
        "print(\"multiplication:\",a*b)\n",
        "print(\"division:\",a/b)\n",
        "print(\"floor:\",a//b)\n",
        "print(\"modulus:\",a%b)\n",
        "print(\"Power\",a**b)"
      ],
      "metadata": {
        "colab": {
          "base_uri": "https://localhost:8080/"
        },
        "id": "0rQOJl0samta",
        "outputId": "94959ea7-d7dc-4f9a-a442-74dcdd160839"
      },
      "execution_count": 66,
      "outputs": [
        {
          "output_type": "stream",
          "name": "stdout",
          "text": [
            "addition: 15\n",
            "subtraction: 5\n",
            "multiplication: 50\n",
            "division: 2.0\n",
            "floor: 2\n",
            "modulus: 0\n",
            "Power 100000\n"
          ]
        }
      ]
    },
    {
      "cell_type": "code",
      "source": [
        "x=5\n",
        "x+=3\n",
        "print(x)\n",
        "x*=2\n",
        "print(x)\n",
        "x-=4\n",
        "print(x)\n",
        "print(x)\n",
        "a,b=10,20\n",
        "print(a,b)"
      ],
      "metadata": {
        "colab": {
          "base_uri": "https://localhost:8080/"
        },
        "id": "l2w3crc4fEcq",
        "outputId": "ea6ef93e-b72b-42e4-9509-3dcf9ddbdfbf"
      },
      "execution_count": 68,
      "outputs": [
        {
          "output_type": "stream",
          "name": "stdout",
          "text": [
            "8\n",
            "16\n",
            "12\n",
            "12\n",
            "10 20\n"
          ]
        }
      ]
    },
    {
      "cell_type": "code",
      "source": [
        "a=5\n",
        "b=7\n",
        "print(a==b)\n",
        "print(a>=5)\n",
        "print(a<=3)\n",
        "print(a<b)\n",
        "print(a>b)\n",
        "print(a!=b)"
      ],
      "metadata": {
        "colab": {
          "base_uri": "https://localhost:8080/"
        },
        "id": "itMhqA2QfYPF",
        "outputId": "3812642b-2cd6-4271-c2bb-b08ef57edb0a"
      },
      "execution_count": 70,
      "outputs": [
        {
          "output_type": "stream",
          "name": "stdout",
          "text": [
            "False\n",
            "True\n",
            "False\n",
            "True\n",
            "False\n",
            "True\n"
          ]
        }
      ]
    },
    {
      "cell_type": "code",
      "source": [
        "n=5\n",
        "print(-n)\n",
        "print(+n)\n",
        "flag=True\n",
        "print(not flag)"
      ],
      "metadata": {
        "colab": {
          "base_uri": "https://localhost:8080/"
        },
        "id": "R5UjIohmfwCy",
        "outputId": "9448af49-11fd-4a93-e452-e14418e40117"
      },
      "execution_count": 71,
      "outputs": [
        {
          "output_type": "stream",
          "name": "stdout",
          "text": [
            "-5\n",
            "5\n",
            "False\n"
          ]
        }
      ]
    },
    {
      "cell_type": "code",
      "source": [],
      "metadata": {
        "id": "UJ3NyE8Ef9nh"
      },
      "execution_count": null,
      "outputs": []
    },
    {
      "cell_type": "code",
      "source": [
        "from pickle import FALSE\n",
        "a=5\n",
        "b=7\n",
        "print(a==b and a>=5)\n",
        "print(a==b or a>=5)\n",
        "print(not a==b)\n",
        "x=True\n",
        "y=False\n",
        "print(not x,not y)"
      ],
      "metadata": {
        "colab": {
          "base_uri": "https://localhost:8080/"
        },
        "outputId": "5eca65ab-122d-4e2f-8dc0-3d75c3995073",
        "id": "CqnggskugHwH"
      },
      "execution_count": 73,
      "outputs": [
        {
          "output_type": "stream",
          "name": "stdout",
          "text": [
            "False\n",
            "True\n",
            "True\n",
            "False True\n"
          ]
        }
      ]
    },
    {
      "cell_type": "code",
      "source": [
        "age=15\n",
        "print(a>=18)\n",
        "num=12\n",
        "print(num%2==0 and num>10)\n",
        "num1=15\n",
        "print(not num1%2==0)\n",
        "a=10\n",
        "a+=1\n",
        "a*=8\n",
        "print(a)\n"
      ],
      "metadata": {
        "colab": {
          "base_uri": "https://localhost:8080/"
        },
        "id": "VVd5JsmOgzV3",
        "outputId": "53415c4c-b424-49f2-84a5-6084dac87751"
      },
      "execution_count": 83,
      "outputs": [
        {
          "output_type": "stream",
          "name": "stdout",
          "text": [
            "True\n",
            "True\n",
            "True\n",
            "88\n"
          ]
        }
      ]
    },
    {
      "cell_type": "code",
      "source": [
        "binary1 = '1010101'\n",
        "\n",
        "# Pad binary string with leading zeros until its length is a multiple of 3\n",
        "while len(binary1) % 3 != 0:\n",
        "    binary1 = '0' + binary1\n",
        "\n",
        "octal = ' '\n",
        "# Process the binary string in chunks of 3 bits\n",
        "for i in range(0,len(binary1),3):\n",
        "    octal += str(int(binary1[i:i+3], 2))\n",
        "\n",
        "print(\"Binary 1010101 to octal:\", octal)\n",
        ""
      ],
      "metadata": {
        "colab": {
          "base_uri": "https://localhost:8080/"
        },
        "id": "nQbRw2fGoTRC",
        "outputId": "c74a51c5-77bb-4066-cf25-c897d7474715"
      },
      "execution_count": 106,
      "outputs": [
        {
          "output_type": "stream",
          "name": "stdout",
          "text": [
            "Binary 1010101 to octal:  125\n"
          ]
        }
      ]
    },
    {
      "cell_type": "code",
      "source": [
        "# Restore the built-in 'bin' function\n",
        "try:\n",
        "    del bin\n",
        "except:\n",
        "    pass\n"
      ],
      "metadata": {
        "id": "RpB44d5Lp1t_"
      },
      "execution_count": 126,
      "outputs": []
    },
    {
      "cell_type": "code",
      "source": [
        "number = 51\n",
        "print(\"Decimal number:\", number)\n",
        "binary_number = bin(number)\n",
        "print(\"Binary value:\", binary_number)\n",
        "\n",
        "# Binary to Decimal\n",
        "b_num = \"0b110010\"\n",
        "dec = int(b_num, 2)\n",
        "print(\"Decimal value (from binary):\", dec)\n",
        "\n",
        "# Decimal to Octal\n",
        "dec1 = 49\n",
        "octal_val = oct(dec1)\n",
        "print(\"Octal number:\", octal_val)\n",
        "\n",
        "# Octal to Decimal\n",
        "oct1 = \"0o61\"\n",
        "dec2 = int(oct1, 8)\n",
        "print(\"Decimal value (from octal):\", dec2)\n",
        "\n",
        "# Decimal to Hexadecimal\n",
        "dec3 = 78\n",
        "hexa = hex(dec3)\n",
        "print(\"Hexadecimal:\", hexa)\n",
        "\n",
        "# Hexadecimal to Decimal\n",
        "hex1 = '0x4e'\n",
        "dec4 = int(hex1, 16)\n",
        "print(\"Decimal value (from hex):\", dec4)\n",
        "\n",
        "# Binary string to Decimal\n",
        "bstr = '11011'\n",
        "dec5 = int(bstr, 2)\n",
        "print(\"Decimal value (from binary string):\", dec5)\n",
        "\n",
        "# Octal string to Decimal\n",
        "ostr = '260'\n",
        "dec6 = int(ostr, 8)\n",
        "print(\"Decimal value (from octal string):\", dec6)\n",
        "\n",
        "# Hex string to Decimal\n",
        "hstr = '3e'\n",
        "dec7 = int(hstr, 16)\n",
        "print(\"Decimal value (from hex string):\", dec7)\n"
      ],
      "metadata": {
        "colab": {
          "base_uri": "https://localhost:8080/"
        },
        "id": "3z_iw94rqIUb",
        "outputId": "6a92d710-c4fb-4ce3-cc88-a2619d8e4800"
      },
      "execution_count": 128,
      "outputs": [
        {
          "output_type": "stream",
          "name": "stdout",
          "text": [
            "Decimal number: 51\n",
            "Binary value: 0b110011\n",
            "Decimal value (from binary): 50\n",
            "Octal number: 0o61\n",
            "Decimal value (from octal): 49\n",
            "Hexadecimal: 0x4e\n",
            "Decimal value (from hex): 78\n",
            "Decimal value (from binary string): 27\n",
            "Decimal value (from octal string): 176\n",
            "Decimal value (from hex string): 62\n"
          ]
        }
      ]
    },
    {
      "cell_type": "code",
      "source": [
        "num=100\n",
        "binary_num=bin(num)\n",
        "print(binary_num)\n",
        "octal_num=oct(num)\n",
        "hexa2=hex(num)\n",
        "print(octal_num)\n",
        "print(hexa2)\n",
        "hexa3='0xFF'\n",
        "dec8=int(hexa3,16)\n",
        "print(dec8)\n"
      ],
      "metadata": {
        "colab": {
          "base_uri": "https://localhost:8080/"
        },
        "id": "-UWlHwKBqOFm",
        "outputId": "8beb3cb3-2d75-423c-e570-ae925bb2304c"
      },
      "execution_count": 132,
      "outputs": [
        {
          "output_type": "stream",
          "name": "stdout",
          "text": [
            "0b1100100\n",
            "0o144\n",
            "0x64\n",
            "255\n"
          ]
        }
      ]
    },
    {
      "cell_type": "code",
      "source": [
        "def convert_decimal_to_all_bases(decimal_number):\n",
        "    binary = bin(decimal_number)      # Binary with '0b' prefix\n",
        "    octal = oct(decimal_number)       # Octal with '0o' prefix\n",
        "    hexa = hex(decimal_number)        # Hex with '0x' prefix\n",
        "\n",
        "    print(f\"Decimal: {decimal_number}\")\n",
        "    print(f\"Binary : {binary}\")\n",
        "    print(f\"Octal  : {octal}\")\n",
        "    print(f\"Hex    : {hexa}\")\n",
        "convert_decimal_to_all_bases(78)\n"
      ],
      "metadata": {
        "colab": {
          "base_uri": "https://localhost:8080/"
        },
        "id": "HxMWqEwIq9RB",
        "outputId": "fc6864db-83dd-45fe-bacb-f8a21d133a6d"
      },
      "execution_count": 135,
      "outputs": [
        {
          "output_type": "stream",
          "name": "stdout",
          "text": [
            "Decimal: 78\n",
            "Binary : 0b1001110\n",
            "Octal  : 0o116\n",
            "Hex    : 0x4e\n"
          ]
        }
      ]
    },
    {
      "cell_type": "code",
      "source": [
        "a=10\n",
        "b=4\n",
        "print(a&b)\n",
        "print(a|b)\n",
        "print(a^b)\n",
        "print(~a)\n",
        "print(a<<1)\n",
        "print(a>>2)\n",
        "\n",
        "\n"
      ],
      "metadata": {
        "colab": {
          "base_uri": "https://localhost:8080/"
        },
        "id": "S3kvFwjFrIGw",
        "outputId": "7eb6340a-2089-4d66-bb8e-7a1ab4ee5e85"
      },
      "execution_count": 145,
      "outputs": [
        {
          "output_type": "stream",
          "name": "stdout",
          "text": [
            "0\n",
            "14\n",
            "14\n",
            "-11\n",
            "20\n",
            "2\n"
          ]
        }
      ]
    },
    {
      "cell_type": "code",
      "source": [],
      "metadata": {
        "id": "Ib0ubS4UwC3G"
      },
      "execution_count": null,
      "outputs": []
    }
  ]
}
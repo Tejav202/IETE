{
  "nbformat": 4,
  "nbformat_minor": 0,
  "metadata": {
    "colab": {
      "provenance": [],
      "authorship_tag": "ABX9TyPRcWWsITY8ZP/NWzzR/MmG",
      "include_colab_link": true
    },
    "kernelspec": {
      "name": "python3",
      "display_name": "Python 3"
    },
    "language_info": {
      "name": "python"
    }
  },
  "cells": [
    {
      "cell_type": "markdown",
      "metadata": {
        "id": "view-in-github",
        "colab_type": "text"
      },
      "source": [
        "<a href=\"https://colab.research.google.com/github/Tejav202/IETE/blob/main/day2_colab.ipynb\" target=\"_parent\"><img src=\"https://colab.research.google.com/assets/colab-badge.svg\" alt=\"Open In Colab\"/></a>"
      ]
    },
    {
      "cell_type": "code",
      "execution_count": 1,
      "metadata": {
        "colab": {
          "base_uri": "https://localhost:8080/"
        },
        "id": "9mi7PR1iL88I",
        "outputId": "ec489475-23d9-4a64-c501-19bbad7612ac"
      },
      "outputs": [
        {
          "output_type": "stream",
          "name": "stdout",
          "text": [
            "('apple', 'mango', 'banana')\n"
          ]
        }
      ],
      "source": [
        "my_tuple=('apple','mango','banana')\n",
        "print(my_tuple)"
      ]
    },
    {
      "cell_type": "code",
      "source": [
        "my_tuple=('apple','mango','banana')\n",
        "print(my_tuple[0])\n",
        "print(my_tuple[-1])\n",
        "print(my_tuple[0:])\n",
        "print(my_tuple[0:2])"
      ],
      "metadata": {
        "colab": {
          "base_uri": "https://localhost:8080/"
        },
        "id": "otvUP0ezNzG7",
        "outputId": "de3a4c8d-40a3-492e-b9e2-cc458a81811f"
      },
      "execution_count": 2,
      "outputs": [
        {
          "output_type": "stream",
          "name": "stdout",
          "text": [
            "apple\n",
            "banana\n",
            "('apple', 'mango', 'banana')\n",
            "('apple', 'mango')\n"
          ]
        }
      ]
    },
    {
      "cell_type": "code",
      "source": [
        "my_tuple=('apple','mango','banana','apple','banana','grape')\n",
        "print(my_tuple)\n",
        "print(my_tuple.count(\"apple\"))\n",
        "print(my_tuple.index(\"grape\"))"
      ],
      "metadata": {
        "colab": {
          "base_uri": "https://localhost:8080/"
        },
        "id": "M9k4-i8_OAQB",
        "outputId": "5bcefd99-67b2-4a67-cbe0-eff3927b9922"
      },
      "execution_count": 5,
      "outputs": [
        {
          "output_type": "stream",
          "name": "stdout",
          "text": [
            "('apple', 'mango', 'banana', 'apple', 'banana', 'grape')\n",
            "2\n",
            "5\n"
          ]
        }
      ]
    },
    {
      "cell_type": "code",
      "source": [
        "myset={'apple','apple','mango','banana'}\n",
        "print(myset)\n",
        "myset.add('grape')\n",
        "print(myset)\n",
        "myset.remove('mango')\n",
        "print(myset)\n",
        "myset.discard('grape')\n",
        "print(myset)\n",
        "myset.clear()\n",
        "print(myset)"
      ],
      "metadata": {
        "colab": {
          "base_uri": "https://localhost:8080/"
        },
        "id": "Vx_4zoz2OAIv",
        "outputId": "fee7e0f1-5008-40e3-b313-ec94367e88a5"
      },
      "execution_count": 8,
      "outputs": [
        {
          "output_type": "stream",
          "name": "stdout",
          "text": [
            "{'apple', 'mango', 'banana'}\n",
            "{'apple', 'mango', 'banana', 'grape'}\n",
            "{'apple', 'banana', 'grape'}\n",
            "{'apple', 'banana'}\n",
            "set()\n"
          ]
        }
      ]
    },
    {
      "cell_type": "code",
      "source": [
        "set1={'apple','banana'}\n",
        "set2={'banana','mango'}\n",
        "combined=set1.union(set2)\n",
        "print(combined)"
      ],
      "metadata": {
        "colab": {
          "base_uri": "https://localhost:8080/"
        },
        "id": "POgH1P72PNid",
        "outputId": "b38ca67b-c0bb-48ea-b3cb-4d2b8a6f9c08"
      },
      "execution_count": 9,
      "outputs": [
        {
          "output_type": "stream",
          "name": "stdout",
          "text": [
            "{'apple', 'mango', 'banana'}\n"
          ]
        }
      ]
    },
    {
      "cell_type": "code",
      "source": [
        "set1={'apple','banana'}\n",
        "set2={'banana','mango'}\n",
        "common=set1.intersection(set2)\n",
        "print(common)"
      ],
      "metadata": {
        "colab": {
          "base_uri": "https://localhost:8080/"
        },
        "id": "R6PgJMEaPmoC",
        "outputId": "13c54657-14b1-4034-a3ce-aad91ea4a018"
      },
      "execution_count": 11,
      "outputs": [
        {
          "output_type": "stream",
          "name": "stdout",
          "text": [
            "{'banana'}\n"
          ]
        }
      ]
    },
    {
      "cell_type": "code",
      "source": [
        "fruits=('apple',5,'banana',1,'mango',4,'watermelon','apple')\n",
        "print(fruits[1])\n",
        "print(fruits.count('apple'))\n",
        "set1={1,2,1,2,3}\n",
        "print(set1)\n",
        "set1.add(5)\n",
        "print(set1)\n",
        "common=set1.intersection(fruits)\n",
        "print(common)"
      ],
      "metadata": {
        "colab": {
          "base_uri": "https://localhost:8080/"
        },
        "id": "LPizIavsPyqu",
        "outputId": "65c90bd0-7f89-49e0-de7e-ab2dcf94b9d5"
      },
      "execution_count": 16,
      "outputs": [
        {
          "output_type": "stream",
          "name": "stdout",
          "text": [
            "5\n",
            "2\n",
            "{1, 2, 3}\n",
            "{1, 2, 3, 5}\n",
            "{1, 5}\n"
          ]
        }
      ]
    },
    {
      "cell_type": "code",
      "source": [
        "student={'name':'alice','age':21,\"grade\":'A'}\n",
        "print(student)\n",
        "print(student['name'])\n",
        "print(student['age'])\n",
        "print(student.get('grade'))\n",
        "print(student.get('marks'))\n",
        "print(student.get('marks',10))"
      ],
      "metadata": {
        "colab": {
          "base_uri": "https://localhost:8080/"
        },
        "id": "WmWnsVT5RfEz",
        "outputId": "efe69d6e-d480-4ac1-b717-9a6a5d2f539d"
      },
      "execution_count": 17,
      "outputs": [
        {
          "output_type": "stream",
          "name": "stdout",
          "text": [
            "{'name': 'alice', 'age': 21, 'grade': 'A'}\n",
            "alice\n",
            "21\n",
            "A\n",
            "None\n",
            "10\n"
          ]
        }
      ]
    },
    {
      "cell_type": "code",
      "source": [
        "student['marks']=85\n",
        "student['grade']='A+'\n",
        "print(student)\n",
        "student.pop('marks')\n",
        "print(student)\n",
        "for key in student:\n",
        "  print(key,\":\",student[key])\n",
        ""
      ],
      "metadata": {
        "colab": {
          "base_uri": "https://localhost:8080/"
        },
        "id": "UvdE9DdRTkI7",
        "outputId": "4506cfeb-1aab-4f66-f04e-4d342fa84cf6"
      },
      "execution_count": 21,
      "outputs": [
        {
          "output_type": "stream",
          "name": "stdout",
          "text": [
            "{'name': 'alice', 'grade': 'A+', 'marks': 85}\n",
            "{'name': 'alice', 'grade': 'A+'}\n",
            "name : alice\n",
            "grade : A+\n"
          ]
        }
      ]
    },
    {
      "cell_type": "code",
      "source": [
        "keys=['name','age','grade']\n",
        "values=['bob',22,'B']\n",
        "student2=dict(zip(keys,values))\n",
        "print(student2)"
      ],
      "metadata": {
        "colab": {
          "base_uri": "https://localhost:8080/"
        },
        "id": "F15VAwlbURT6",
        "outputId": "111558db-fb92-4c68-904d-d933a67bae1e"
      },
      "execution_count": 23,
      "outputs": [
        {
          "output_type": "stream",
          "name": "stdout",
          "text": [
            "{'name': 'bob', 'age': 22, 'grade': 'B'}\n"
          ]
        }
      ]
    },
    {
      "cell_type": "code",
      "source": [
        "classroom={\n",
        "   'student1':{'name':'alice','marks':80},\n",
        "   'student2':{'name':'bob','marks':90},\n",
        "   'student3':{'name':'charlie','marks':70}\n",
        "}\n",
        "print(classroom['student1'])\n",
        "print(classroom['student2'])\n",
        "print(classroom['student3'])"
      ],
      "metadata": {
        "colab": {
          "base_uri": "https://localhost:8080/"
        },
        "id": "WSzVjJAuUhl3",
        "outputId": "8c926eda-27cc-45b1-9822-eb251dff2a9a"
      },
      "execution_count": 29,
      "outputs": [
        {
          "output_type": "stream",
          "name": "stdout",
          "text": [
            "{'name': 'alice', 'marks': 80}\n",
            "{'name': 'bob', 'marks': 90}\n",
            "{'name': 'charlie', 'marks': 70}\n"
          ]
        }
      ]
    },
    {
      "cell_type": "code",
      "source": [
        "car={'brand':\"suzuki\",'model':\"alto\",\"year\":2020}\n",
        "car['color']='blue'\n",
        "print(car)\n",
        "print(car.get('enginetype','petrol'))\n",
        "cars={\n",
        "    'car1':{\"brand\":\"suzuki\",\"model\":\"alto\",\"year\":2020},\n",
        "    'car2':{\"brand\":\"toyota\",\"model\":\"camry\",\"year\":2021}\n",
        "}\n",
        "print(cars['car1'])\n",
        "print(cars['car2'])\n",
        "names=['venkat','teja','ravi']\n",
        "marks=[85,90,95]\n",
        "student=dict(zip(names,marks))\n",
        "print(student)\n",
        "\n",
        "\n",
        "\n",
        "\n"
      ],
      "metadata": {
        "colab": {
          "base_uri": "https://localhost:8080/"
        },
        "id": "q_LZReeXVgXW",
        "outputId": "efe0b94c-fc87-476e-8d7a-2e0c5e1a0e77"
      },
      "execution_count": 37,
      "outputs": [
        {
          "output_type": "stream",
          "name": "stdout",
          "text": [
            "{'brand': 'suzuki', 'model': 'alto', 'year': 2020, 'color': 'blue'}\n",
            "petrol\n",
            "{'brand': 'suzuki', 'model': 'alto', 'year': 2020}\n",
            "{'brand': 'toyota', 'model': 'camry', 'year': 2021}\n",
            "{'venkat': 85, 'teja': 90, 'ravi': 95}\n"
          ]
        }
      ]
    },
    {
      "cell_type": "code",
      "source": [
        "x=5\n",
        "print(type(x))\n",
        "y=12.5\n",
        "print(type(y))\n",
        "c='apple'\n",
        "print(type(c))\n",
        "d=3+2j\n",
        "print(type(d))\n",
        "b=True\n",
        "print(type(b))\n",
        "fruits=['apple','mango']\n",
        "print(type(fruits))\n",
        "cd=10,20\n",
        "print(type(cd))\n",
        "num=range(5)\n",
        "print(list(num))\n",
        "print(type(num))"
      ],
      "metadata": {
        "colab": {
          "base_uri": "https://localhost:8080/"
        },
        "id": "_4EF_Nc0XXBf",
        "outputId": "fea4e1b0-bb7b-4ec4-a716-10bb32f6e9b1"
      },
      "execution_count": 44,
      "outputs": [
        {
          "output_type": "stream",
          "name": "stdout",
          "text": [
            "<class 'int'>\n",
            "<class 'float'>\n",
            "<class 'str'>\n",
            "<class 'complex'>\n",
            "<class 'bool'>\n",
            "<class 'list'>\n",
            "<class 'tuple'>\n",
            "[0, 1, 2, 3, 4]\n",
            "<class 'range'>\n"
          ]
        }
      ]
    },
    {
      "cell_type": "code",
      "source": [
        "a=20\n",
        "b=str(a)\n",
        "print(b,type(b))\n",
        "c=\"123\"\n",
        "d=int(c)\n",
        "print(d,type(d))\n",
        "x=5\n",
        "y=float(x)\n",
        "z=str(x)\n",
        "w=int(\"50\")\n",
        "k=list(\"abc\")\n",
        "print(x,y,z,w,k)"
      ],
      "metadata": {
        "colab": {
          "base_uri": "https://localhost:8080/"
        },
        "id": "RCnTE6U3ZxLh",
        "outputId": "b01d0561-ec91-438a-c25a-24b3633df687"
      },
      "execution_count": 48,
      "outputs": [
        {
          "output_type": "stream",
          "name": "stdout",
          "text": [
            "20 <class 'str'>\n",
            "123 <class 'int'>\n",
            "5 5.0 5 50 ['a', 'b', 'c']\n"
          ]
        }
      ]
    },
    {
      "cell_type": "code",
      "source": [
        "a=10\n",
        "b=10.5\n",
        "c=2+3j\n",
        "d=\"hi\"\n",
        "e=[1,2,3]\n",
        "f=('hi','hello','world')\n",
        "is_palin=True\n",
        "print(type(a))\n",
        "print(type(b))\n",
        "print(type(c))\n",
        "print(type(d))\n",
        "print(type(e))\n",
        "print(type(is_palin))\n",
        "g=float(a)\n",
        "print(type(g))\n",
        "h=str(a)\n",
        "print(h,type(h))\n",
        "list=[1,'hi',10.5,True,2+3j]\n",
        "print(type(list[0]))\n",
        "print(type(list[1]))\n",
        "print(type(list[2]))\n",
        "print(type(list[3]))\n",
        "print(type(list[4]))\n",
        "set={1,2,3,4,4,3,2}\n",
        "print(set)\n",
        "tuple=(1,2,3,4,4,3,2)\n",
        "tuple[2]='hi'\n"
      ],
      "metadata": {
        "colab": {
          "base_uri": "https://localhost:8080/",
          "height": 419
        },
        "id": "2oTDqwniaYNG",
        "outputId": "7d0d5d3e-63db-464c-f891-72ae15bcb750"
      },
      "execution_count": 64,
      "outputs": [
        {
          "output_type": "stream",
          "name": "stdout",
          "text": [
            "<class 'int'>\n",
            "<class 'float'>\n",
            "<class 'complex'>\n",
            "<class 'str'>\n",
            "<class 'list'>\n",
            "<class 'bool'>\n",
            "<class 'float'>\n",
            "10 <class 'str'>\n",
            "<class 'int'>\n",
            "<class 'str'>\n",
            "<class 'float'>\n",
            "<class 'bool'>\n",
            "<class 'complex'>\n",
            "{1, 2, 3, 4}\n"
          ]
        },
        {
          "output_type": "error",
          "ename": "TypeError",
          "evalue": "'tuple' object does not support item assignment",
          "traceback": [
            "\u001b[0;31m---------------------------------------------------------------------------\u001b[0m",
            "\u001b[0;31mTypeError\u001b[0m                                 Traceback (most recent call last)",
            "\u001b[0;32m<ipython-input-64-3db4c01cb8f9>\u001b[0m in \u001b[0;36m<cell line: 0>\u001b[0;34m()\u001b[0m\n\u001b[1;32m     25\u001b[0m \u001b[0mprint\u001b[0m\u001b[0;34m(\u001b[0m\u001b[0mset\u001b[0m\u001b[0;34m)\u001b[0m\u001b[0;34m\u001b[0m\u001b[0;34m\u001b[0m\u001b[0m\n\u001b[1;32m     26\u001b[0m \u001b[0mtuple\u001b[0m\u001b[0;34m=\u001b[0m\u001b[0;34m(\u001b[0m\u001b[0;36m1\u001b[0m\u001b[0;34m,\u001b[0m\u001b[0;36m2\u001b[0m\u001b[0;34m,\u001b[0m\u001b[0;36m3\u001b[0m\u001b[0;34m,\u001b[0m\u001b[0;36m4\u001b[0m\u001b[0;34m,\u001b[0m\u001b[0;36m4\u001b[0m\u001b[0;34m,\u001b[0m\u001b[0;36m3\u001b[0m\u001b[0;34m,\u001b[0m\u001b[0;36m2\u001b[0m\u001b[0;34m)\u001b[0m\u001b[0;34m\u001b[0m\u001b[0;34m\u001b[0m\u001b[0m\n\u001b[0;32m---> 27\u001b[0;31m \u001b[0mtuple\u001b[0m\u001b[0;34m[\u001b[0m\u001b[0;36m2\u001b[0m\u001b[0;34m]\u001b[0m\u001b[0;34m=\u001b[0m\u001b[0;34m'hi'\u001b[0m\u001b[0;34m\u001b[0m\u001b[0;34m\u001b[0m\u001b[0m\n\u001b[0m",
            "\u001b[0;31mTypeError\u001b[0m: 'tuple' object does not support item assignment"
          ]
        }
      ]
    },
    {
      "cell_type": "code",
      "source": [],
      "metadata": {
        "id": "0rQOJl0samta"
      },
      "execution_count": null,
      "outputs": []
    }
  ]
}